{
 "cells": [
  {
   "cell_type": "markdown",
   "metadata": {
    "slideshow": {
     "slide_type": "slide"
    }
   },
   "source": [
    "## Custom cell metadata in Jupyter notebooks via org-mode\n",
    "\n"
   ]
  },
  {
   "cell_type": "markdown",
   "metadata": {},
   "source": [
    "One feature of Jupyter notebooks that is sometimes used is custom cell metadata. This can, for example be used to put names on a cell, or tags for future analysis or conversion. One of the main uses is for annotating cells as part of a slide show. A cell can be a slide, subslide, fragment, note or skip.\n",
    "\n",
    "ox-ipynb mostly supports this now. You can add metadata to a heading via properties or paragraphs via an attr\\_ipynb line or to a code block. The syntax is lispy, basically cons and list cells. These are read by emacs-lisp and converted to json at export time. Here is an example:\n",
    "\n"
   ]
  },
  {
   "cell_type": "code",
   "execution_count": 1,
   "metadata": {
    "name": "cell-range",
    "slideshow": {
     "slide_type": "slide"
    },
    "tags": [
     "range",
     "print"
    ]
   },
   "outputs": [
    {
     "name": "stdout",
     "output_type": "stream",
     "text": [
      "# Out[2]:\n",
      "# output\n",
      "0\n",
      "1\n",
      "2\n",
      "3\n",
      "4"
     ]
    }
   ],
   "source": [
    "for i in range(5):\n",
    "    print(i)"
   ]
  },
  {
   "cell_type": "markdown",
   "metadata": {
    "name": "unique-cell",
    "slideshow": {
     "slide_type": "slide"
    },
    "tags": [
     "tag1",
     "tag2"
    ]
   },
   "source": [
    "You can also use it to put a name and list of tags on a markdown cell.\n",
    "\n"
   ]
  },
  {
   "cell_type": "markdown",
   "metadata": {
    "slideshow": {
     "slide_type": "subslide"
    }
   },
   "source": [
    "For convenience you can call `ox-ipynb-insert-slide` to insert the metadata on a paragraph or src-block. It will offer completion on the types of slides you can insert. This is a subslide.\n",
    "\n"
   ]
  },
  {
   "cell_type": "markdown",
   "metadata": {
    "slideshow": {
     "slide_type": "notes"
    }
   },
   "source": [
    "This paragraph is just for notes. It won't show in the slide show.\n",
    "\n"
   ]
  },
  {
   "cell_type": "markdown",
   "metadata": {
    "slideshow": {
     "slide_type": "skip"
    }
   },
   "source": [
    "No one should probably see this in the slide show.\n",
    "\n"
   ]
  },
  {
   "cell_type": "markdown",
   "metadata": {
    "slideshow": {
     "slide_type": "slide"
    }
   },
   "source": [
    "These features were requested in these issues:\n",
    "\n",
    "[https://github.com/jkitchin/ox-ipynb/issues/6](https://github.com/jkitchin/ox-ipynb/issues/6)\n",
    "\n",
    "[https://github.com/jkitchin/ox-ipynb/issues/11](https://github.com/jkitchin/ox-ipynb/issues/11)\n",
    "\n"
   ]
  },
  {
   "cell_type": "markdown",
   "metadata": {
    "slideshow": {
     "slide_type": "slide"
    }
   },
   "source": [
    "### Export as slide show\n",
    "\n"
   ]
  },
  {
   "cell_type": "markdown",
   "metadata": {},
   "source": [
    "There is a new export option `ox-ipynb-export-to-ipynb-slides-and-open`\n",
    "\n"
   ]
  },
  {
   "cell_type": "markdown",
   "metadata": {
    "slideshow": {
     "slide_type": "fragment"
    }
   },
   "source": [
    "#### Or if you like keybindings\n",
    "\n"
   ]
  },
  {
   "cell_type": "markdown",
   "metadata": {},
   "source": [
    "C-c C-e n s.\n",
    "\n",
    "*This was a slide fragment.*\n",
    "\n"
   ]
  },
  {
   "cell_type": "markdown",
   "metadata": {
    "slideshow": {
     "slide_type": "slide"
    }
   },
   "source": [
    "### You can have equations in your slides\n",
    "\n"
   ]
  },
  {
   "cell_type": "markdown",
   "metadata": {},
   "source": [
    "A spiral is a parametric plot in $t$:\n",
    "\n",
    "$x = \\cos(t) e^{-a t}$\n",
    "\n",
    "and\n",
    "\n",
    "$y = \\sin(t) e^{-a t}$\n",
    "\n"
   ]
  },
  {
   "cell_type": "markdown",
   "metadata": {
    "slideshow": {
     "slide_type": "slide"
    }
   },
   "source": [
    "### You can put in code and figures in your slides\n",
    "\n"
   ]
  },
  {
   "cell_type": "code",
   "execution_count": 1,
   "metadata": {},
   "outputs": [
    {
     "name": "stdout",
     "output_type": "stream",
     "text": [
      "# Out[2]:\n",
      "# text/plain\n",
      "[<matplotlib.lines.Line2D at 0x11c0e22e8>]\n",
      "\n",
      "\n",
      "\n",
      "# image/png"
     ]
    },
    {
     "data": {
      "image/png": "[encoded data removed]",
      "text/plain": [
       "<matplotlib.figure.Figure>"
      ]
     },
     "metadata": {},
     "output_type": "display_data"
    }
   ],
   "source": [
    "import numpy as np\n",
    "t = np.linspace(0, 8 * np.pi, 500)\n",
    "x = np.cos(t) * np.exp(-0.1 * t)\n",
    "y = np.sin(t) * np.exp(-0.1 * t)\n",
    "\n",
    "%matplotlib inline\n",
    "import matplotlib.pyplot as plt\n",
    "plt.plot(x, y)"
   ]
  },
  {
   "cell_type": "markdown",
   "metadata": {
    "slideshow": {
     "slide_type": "slide"
    }
   },
   "source": [
    "## Not bad for something quick and easy!\n",
    "\n"
   ]
  },
  {
   "cell_type": "markdown",
   "metadata": {},
   "source": [
    "See [https://github.com/jkitchin/ox-ipynb](https://github.com/jkitchin/ox-ipynb).\n",
    "\n",
    "Probably there are issues. Report them at [https://github.com/jkitchin/ox-ipynb/issues](https://github.com/jkitchin/ox-ipynb/issues)\n",
    "\n"
   ]
  }
 ],
 "metadata": {
  "celltoolbar": "Edit Metadata",
  "kernelspec": {
   "display_name": "Python 3",
   "language": "python",
   "name": "python3"
  },
  "language_info": {
   "codemirror_mode": {
    "name": "ipython",
    "version": 3
   },
   "file_extension": ".py",
   "mimetype": "text/x-python",
   "name": "python",
   "nbconvert_exporter": "python",
   "pygments_lexer": "ipython3",
   "version": "3.6.0"
  },
  "org": {}
 },
 "nbformat": 4,
 "nbformat_minor": 1
}
